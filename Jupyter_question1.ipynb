{
 "cells": [
  {
   "cell_type": "markdown",
   "metadata": {},
   "source": [
    "# 1. Coleta de Dados\n",
    "\n",
    "- **Objetivo:** Criar um vetor (lista) para armazenar um conjunto de dados numéricos simples. Neste exemplo, vamos gerar aleatoriamente uma lista de idades entre 18 e 65 anos."
   ]
  },
  {
   "cell_type": "code",
   "execution_count": 173,
   "metadata": {},
   "outputs": [
    {
     "name": "stdout",
     "output_type": "stream",
     "text": [
      "[40, 61, 64, 43, 23, 60, 49, 64, 20, 53, 52, 39, 52, 46, 33, 30, 58, 28, 33, 48]\n"
     ]
    }
   ],
   "source": [
    "import random\n",
    "\n",
    "# Definindo o intervalo para a geração das idades\n",
    "min_age = 18\n",
    "max_age = 65\n",
    "\n",
    "idades = []\n",
    "for _ in range(20):\n",
    "    idades.append(random.randint(18, 65))\n",
    "\n",
    "print(idades)"
   ]
  },
  {
   "cell_type": "markdown",
   "metadata": {},
   "source": [
    "# 2. Processamento de dados.\n",
    "\n",
    "- **Objetivo** Criar funções que calculam a média, o valor mínimo e máximo, e a contagem de um valor específico de um vetor."
   ]
  },
  {
   "cell_type": "code",
   "execution_count": 174,
   "metadata": {},
   "outputs": [],
   "source": [
    "def calcular_media(numeros):\n",
    "    return sum(numeros) / len(numeros)\n",
    "\n",
    "\n",
    "def encontrar_max_min(numeros):\n",
    "    return max(numeros), min(numeros)\n",
    "\n",
    "def contar_elementos_intervalo(numeros, limite_inferior, limite_superior):\n",
    "    contador = 0\n",
    "    for numero in numeros:\n",
    "        if limite_inferior <= numero < limite_superior:\n",
    "            contador += 1\n",
    "    return contador\n",
    "media = calcular_media(idades)\n",
    "maximo, minimo = encontrar_max_min(idades)\n",
    "intervalo = contar_elementos_intervalo(idades, 25, 40)"
   ]
  },
  {
   "cell_type": "markdown",
   "metadata": {},
   "source": [
    "# 3. Relatório.\n",
    "\n",
    "- **Objetivo** Criar um relatório dos resultados das operações realizadas pelas funções."
   ]
  },
  {
   "cell_type": "code",
   "execution_count": 175,
   "metadata": {},
   "outputs": [
    {
     "name": "stdout",
     "output_type": "stream",
     "text": [
      "Média do vetor: 44.8\n",
      "Minimo do vetor: 20 e máximo: 64\n",
      "Intervalo: 5\n"
     ]
    }
   ],
   "source": [
    "def relatorio(media,minimo,maximo,intervalo):\n",
    "    print(f\"Média do vetor: {media}\")\n",
    "    print(f\"Minimo do vetor: {minimo} e máximo: {maximo}\")\n",
    "    print(f\"Intervalo: {intervalo}\")\n",
    "\n",
    "relatorio(media,minimo,maximo,intervalo)"
   ]
  }
 ],
 "metadata": {
  "kernelspec": {
   "display_name": "Python 3",
   "language": "python",
   "name": "python3"
  },
  "language_info": {
   "codemirror_mode": {
    "name": "ipython",
    "version": 3
   },
   "file_extension": ".py",
   "mimetype": "text/x-python",
   "name": "python",
   "nbconvert_exporter": "python",
   "pygments_lexer": "ipython3",
   "version": "3.12.3"
  }
 },
 "nbformat": 4,
 "nbformat_minor": 2
}
